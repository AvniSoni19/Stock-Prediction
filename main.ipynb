{
 "cells": [
  {
   "cell_type": "code",
   "execution_count": 2,
   "id": "8b41f2e1",
   "metadata": {},
   "outputs": [],
   "source": [
    "import numpy as np\n",
    "import pandas as pd\n",
    "from sklearn.preprocessing import MinMaxScaler\n",
    "import matplotlib.pyplot as plt\n",
    "import torch\n",
    "import torch.nn as nn\n",
    "from sklearn.metrics import accuracy_score"
   ]
  },
  {
   "cell_type": "code",
   "execution_count": 3,
   "id": "fb767d02",
   "metadata": {},
   "outputs": [],
   "source": [
    "df=pd.read_csv('NFLX.csv')"
   ]
  },
  {
   "cell_type": "code",
   "execution_count": 4,
   "id": "ee4e5792",
   "metadata": {},
   "outputs": [
    {
     "name": "stdout",
     "output_type": "stream",
     "text": [
      "0       262.000000\n",
      "1       247.699997\n",
      "2       266.579987\n",
      "3       267.079987\n",
      "4       253.850006\n",
      "           ...    \n",
      "1004    401.970001\n",
      "1005    432.959991\n",
      "1006    448.250000\n",
      "1007    421.440002\n",
      "1008    407.309998\n",
      "Name: Open, Length: 1009, dtype: float64\n"
     ]
    }
   ],
   "source": [
    "open_price=df['Open']\n",
    "print(open_price)"
   ]
  },
  {
   "cell_type": "code",
   "execution_count": 5,
   "id": "a2de9c74",
   "metadata": {},
   "outputs": [],
   "source": [
    "seq_len=15"
   ]
  },
  {
   "cell_type": "code",
   "execution_count": 6,
   "id": "e910eb2d",
   "metadata": {},
   "outputs": [],
   "source": [
    "mm=MinMaxScaler()"
   ]
  },
  {
   "cell_type": "code",
   "execution_count": 7,
   "id": "46ea6a5c",
   "metadata": {},
   "outputs": [
    {
     "name": "stdout",
     "output_type": "stream",
     "text": [
      "[0.06125254 0.03005911 0.07124314 ... 0.46753051 0.4090483  0.3782257 ]\n"
     ]
    }
   ],
   "source": [
    "scaled_price=mm.fit_transform(np.array(open_price)[...,None]).squeeze()\n",
    "print(scaled_price)"
   ]
  },
  {
   "cell_type": "code",
   "execution_count": 8,
   "id": "9a0be42c",
   "metadata": {},
   "outputs": [],
   "source": [
    "X=[]\n",
    "Y=[]\n",
    "for i in range(len(scaled_price) - seq_len):\n",
    "    X.append(scaled_price[i : i + seq_len])\n",
    "    Y.append(scaled_price[i + seq_len])"
   ]
  },
  {
   "cell_type": "code",
   "execution_count": 9,
   "id": "02f9d23c",
   "metadata": {},
   "outputs": [
    {
     "name": "stdout",
     "output_type": "stream",
     "text": [
      "[0.06125254 0.03005911 0.07124314 0.07233381 0.04347449 0.03974435\n",
      " 0.05097837 0.05791507 0.07876885 0.09774669 0.0955871  0.10503242\n",
      " 0.10898067 0.10269835 0.11960388]\n"
     ]
    }
   ],
   "source": [
    "print(X[0])"
   ]
  },
  {
   "cell_type": "code",
   "execution_count": 10,
   "id": "cc39d51c",
   "metadata": {},
   "outputs": [],
   "source": [
    "X=np.array(X)[...,None]\n",
    "Y=np.array(Y)[...,None]"
   ]
  },
  {
   "cell_type": "code",
   "execution_count": 11,
   "id": "4d659f31",
   "metadata": {},
   "outputs": [],
   "source": [
    "train_X=torch.from_numpy(X[ : int(0.8 * X.shape[0])]).float()\n",
    "train_Y=torch.from_numpy(Y[ : int(0.8 * Y.shape[0])]).float()\n",
    "test_X=torch.from_numpy(X[int(0.8 * X.shape[0]) : ]).float()\n",
    "test_Y=torch.from_numpy(Y[int(0.8 * X.shape[0]) : ]).float()"
   ]
  },
  {
   "cell_type": "code",
   "execution_count": 12,
   "id": "6d3ed860",
   "metadata": {},
   "outputs": [
    {
     "name": "stdout",
     "output_type": "stream",
     "text": [
      "torch.Size([795, 15, 1]) torch.Size([795, 1])\n"
     ]
    }
   ],
   "source": [
    "print(train_X.shape,train_Y.shape)"
   ]
  },
  {
   "cell_type": "code",
   "execution_count": 13,
   "id": "3cbca996",
   "metadata": {},
   "outputs": [],
   "source": [
    "class Model(nn.Module):\n",
    "    def __init__(self , input_size , hidden_size):\n",
    "        super().__init__()\n",
    "        self.lstm = nn.LSTM(input_size , hidden_size , batch_first = True)\n",
    "        self.fc = nn.Linear(hidden_size,1)\n",
    "    def forward(self,x):\n",
    "        output , (hidden , cell)= self.lstm(x)\n",
    "        return self.fc(output[: , -1 , :])\n",
    "        \n",
    "model = Model(1 , 96)"
   ]
  },
  {
   "cell_type": "code",
   "execution_count": 14,
   "id": "29e0b2ed",
   "metadata": {},
   "outputs": [],
   "source": [
    "optimizer = torch.optim.Adam(model.parameters() , lr = 0.001)\n",
    "loss_fn = nn.MSELoss()"
   ]
  },
  {
   "cell_type": "code",
   "execution_count": 15,
   "id": "f05c41d1",
   "metadata": {},
   "outputs": [],
   "source": [
    "num_epochs = 100"
   ]
  },
  {
   "cell_type": "code",
   "execution_count": 16,
   "id": "c64de186",
   "metadata": {},
   "outputs": [
    {
     "name": "stdout",
     "output_type": "stream",
     "text": [
      "10 epoch loss 0.041489463\n",
      "20 epoch loss 0.02367309\n",
      "30 epoch loss 0.022595685\n",
      "40 epoch loss 0.016748378\n",
      "50 epoch loss 0.009932409\n",
      "60 epoch loss 0.0026574803\n",
      "70 epoch loss 0.0029841105\n",
      "80 epoch loss 0.0021254378\n",
      "90 epoch loss 0.002096927\n"
     ]
    }
   ],
   "source": [
    "for epoch in range(num_epochs):\n",
    "    output = model(train_X)\n",
    "    loss = loss_fn(output , train_Y)\n",
    "    \n",
    "    optimizer.zero_grad()\n",
    "    loss.backward()\n",
    "    optimizer.step()\n",
    "    \n",
    "    if epoch % 10 == 0 and epoch != 0:\n",
    "        print(epoch , \"epoch loss\" , loss.detach().numpy())\n",
    "        "
   ]
  },
  {
   "cell_type": "code",
   "execution_count": 17,
   "id": "41223de6",
   "metadata": {},
   "outputs": [],
   "source": [
    "model.eval()\n",
    "with torch.no_grad():\n",
    "    output = model(test_X)"
   ]
  },
  {
   "cell_type": "code",
   "execution_count": 18,
   "id": "7feaf56e",
   "metadata": {},
   "outputs": [],
   "source": [
    "pred = mm.inverse_transform(output.numpy())\n",
    "real = mm.inverse_transform(test_Y.numpy())"
   ]
  },
  {
   "cell_type": "code",
   "execution_count": 20,
   "id": "4e5ca701",
   "metadata": {},
   "outputs": [
    {
     "data": {
      "image/png": "[encoded data removed]",
      "text/plain": [
       "<Figure size 640x480 with 1 Axes>"
      ]
     },
     "metadata": {},
     "output_type": "display_data"
    }
   ],
   "source": [
    "plt.plot(pred.squeeze() , color = \"red\" , label = \"predicted\")\n",
    "plt.plot(real.squeeze() , color = \"green\" , label = \"real\")\n",
    "plt.legend(loc='best')\n",
    "plt.show()"
   ]
  },
  {
   "cell_type": "code",
   "execution_count": null,
   "id": "eab38fbd",
   "metadata": {},
   "outputs": [],
   "source": []
  }
 ],
 "metadata": {
  "kernelspec": {
   "display_name": "Python 3 (ipykernel)",
   "language": "python",
   "name": "python3"
  },
  "language_info": {
   "codemirror_mode": {
    "name": "ipython",
    "version": 3
   },
   "file_extension": ".py",
   "mimetype": "text/x-python",
   "name": "python",
   "nbconvert_exporter": "python",
   "pygments_lexer": "ipython3",
   "version": "3.10.9"
  }
 },
 "nbformat": 4,
 "nbformat_minor": 5
}
